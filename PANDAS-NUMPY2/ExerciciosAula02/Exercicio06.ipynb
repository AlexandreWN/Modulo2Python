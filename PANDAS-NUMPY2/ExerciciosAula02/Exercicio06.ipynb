{
 "cells": [
  {
   "cell_type": "code",
   "execution_count": 43,
   "metadata": {},
   "outputs": [
    {
     "name": "stdout",
     "output_type": "stream",
     "text": [
      "   row.names  sbp  tobacco   ldl  adiposity  famhist  typea  obesity  alcohol  \\\n",
      "0          1  160    12.00  5.73      23.11  Present     49    25.30    97.20   \n",
      "1          2  144     0.01  4.41      28.61   Absent     55    28.87     2.06   \n",
      "2          3  118     0.08  3.48      32.28  Present     52    29.14     3.81   \n",
      "3          4  170     7.50  6.41      38.03  Present     51    31.99    24.26   \n",
      "4          5  134    13.60  3.50      27.78  Present     60    25.99    57.34   \n",
      "\n",
      "   age  chd  \n",
      "0   52    1  \n",
      "1   63    1  \n",
      "2   46    0  \n",
      "3   58    1  \n",
      "4   49    1  \n",
      "0      Present\n",
      "1       Absent\n",
      "2      Present\n",
      "3      Present\n",
      "4      Present\n",
      "        ...   \n",
      "457     Absent\n",
      "458     Absent\n",
      "459     Absent\n",
      "460     Absent\n",
      "461    Present\n",
      "Name: famhist, Length: 462, dtype: object\n"
     ]
    }
   ],
   "source": [
    "#PROGRAMA PARA BALANCEAMENTO DE CLASSES \n",
    "\n",
    "#import io\n",
    "#import sklearn\n",
    "import numpy as np\n",
    "import pandas as pd\n",
    "from sklearn.model_selection import train_test_split\n",
    "\n",
    "# Ignorar warnings\n",
    "import warnings\n",
    "warnings.filterwarnings('ignore')\n",
    "\n",
    "df = pd.read_csv(\"dados_exe1.csv\", header=0)\n",
    "print(df.head())\n",
    "print(df[\"famhist\"])\n"
   ]
  },
  {
   "cell_type": "code",
   "execution_count": 44,
   "metadata": {},
   "outputs": [
    {
     "name": "stdout",
     "output_type": "stream",
     "text": [
      "0      1\n",
      "1      0\n",
      "2      1\n",
      "3      1\n",
      "4      1\n",
      "      ..\n",
      "457    0\n",
      "458    0\n",
      "459    0\n",
      "460    0\n",
      "461    1\n",
      "Name: famhist, Length: 462, dtype: int8\n",
      "   row.names  sbp  tobacco   ldl  adiposity  famhist  typea  obesity  alcohol  \\\n",
      "0          1  160    12.00  5.73      23.11        1     49    25.30    97.20   \n",
      "1          2  144     0.01  4.41      28.61        0     55    28.87     2.06   \n",
      "2          3  118     0.08  3.48      32.28        1     52    29.14     3.81   \n",
      "3          4  170     7.50  6.41      38.03        1     51    31.99    24.26   \n",
      "4          5  134    13.60  3.50      27.78        1     60    25.99    57.34   \n",
      "\n",
      "   age  chd  \n",
      "0   52    1  \n",
      "1   63    1  \n",
      "2   46    0  \n",
      "3   58    1  \n",
      "4   49    1  \n"
     ]
    }
   ],
   "source": [
    "# Codificar valores categóricos da coluna \"famhist\" para inteiros\n",
    "df[\"famhist\"] = df[\"famhist\"].astype('category')\n",
    "#Separa os dados em uma lista finita com duas categorias\n",
    "df[\"famhist\"] = df[\"famhist\"].cat.codes\n",
    "print(df[\"famhist\"])\n",
    "print(df.head())"
   ]
  },
  {
   "cell_type": "code",
   "execution_count": 45,
   "metadata": {},
   "outputs": [
    {
     "name": "stdout",
     "output_type": "stream",
     "text": [
      "Tamanho do Dataset Completo 462 Amostras\n",
      "Classe '0' 302 amostras | Classe '1' 160 Amostras\n",
      "\n",
      "Tamanho do Dataset Treino 323 Amostras\n",
      "Classe '0' 216 amostras | Classe '1' 107 Amostras\n",
      "Tamanho do Dataset Teste 139 Amostras\n",
      "Classe '0' 86 amostras | Classe '1' 53 Amostras\n"
     ]
    }
   ],
   "source": [
    "#Cria cada item da lista com um código\n",
    "\n",
    "# separar dados\n",
    "y = df.iloc[:,-1]\n",
    "x = df.iloc[:,:-1] #Pega todas as colunas menos a última\n",
    "\n",
    "print(\"Tamanho do Dataset Completo {} Amostras\".format(len(x)))\n",
    "print(\"Classe '0' {} amostras | Classe '1' {} Amostras\".format(y.value_counts()[0], y.value_counts()[1]))\n",
    "print(\"\")\n",
    "\n",
    "x_train, x_test, y_train, y_test = train_test_split(x, y, test_size=0.30, random_state=20, shuffle=True)\n",
    "\n",
    "print(\"Tamanho do Dataset Treino {} Amostras\".format(len(x_train)))\n",
    "print(\"Classe '0' {} amostras | Classe '1' {} Amostras\".format(y_train.value_counts()[0], y_train.value_counts()[1]))\n",
    "\n",
    "print(\"Tamanho do Dataset Teste {} Amostras\".format(len(x_test)))\n",
    "print(\"Classe '0' {} amostras | Classe '1' {} Amostras\".format(y_test.value_counts()[0], y_test.value_counts()[1]))"
   ]
  },
  {
   "cell_type": "code",
   "execution_count": 46,
   "metadata": {},
   "outputs": [
    {
     "data": {
      "text/html": [
       "<style>#sk-container-id-3 {color: black;background-color: white;}#sk-container-id-3 pre{padding: 0;}#sk-container-id-3 div.sk-toggleable {background-color: white;}#sk-container-id-3 label.sk-toggleable__label {cursor: pointer;display: block;width: 100%;margin-bottom: 0;padding: 0.3em;box-sizing: border-box;text-align: center;}#sk-container-id-3 label.sk-toggleable__label-arrow:before {content: \"▸\";float: left;margin-right: 0.25em;color: #696969;}#sk-container-id-3 label.sk-toggleable__label-arrow:hover:before {color: black;}#sk-container-id-3 div.sk-estimator:hover label.sk-toggleable__label-arrow:before {color: black;}#sk-container-id-3 div.sk-toggleable__content {max-height: 0;max-width: 0;overflow: hidden;text-align: left;background-color: #f0f8ff;}#sk-container-id-3 div.sk-toggleable__content pre {margin: 0.2em;color: black;border-radius: 0.25em;background-color: #f0f8ff;}#sk-container-id-3 input.sk-toggleable__control:checked~div.sk-toggleable__content {max-height: 200px;max-width: 100%;overflow: auto;}#sk-container-id-3 input.sk-toggleable__control:checked~label.sk-toggleable__label-arrow:before {content: \"▾\";}#sk-container-id-3 div.sk-estimator input.sk-toggleable__control:checked~label.sk-toggleable__label {background-color: #d4ebff;}#sk-container-id-3 div.sk-label input.sk-toggleable__control:checked~label.sk-toggleable__label {background-color: #d4ebff;}#sk-container-id-3 input.sk-hidden--visually {border: 0;clip: rect(1px 1px 1px 1px);clip: rect(1px, 1px, 1px, 1px);height: 1px;margin: -1px;overflow: hidden;padding: 0;position: absolute;width: 1px;}#sk-container-id-3 div.sk-estimator {font-family: monospace;background-color: #f0f8ff;border: 1px dotted black;border-radius: 0.25em;box-sizing: border-box;margin-bottom: 0.5em;}#sk-container-id-3 div.sk-estimator:hover {background-color: #d4ebff;}#sk-container-id-3 div.sk-parallel-item::after {content: \"\";width: 100%;border-bottom: 1px solid gray;flex-grow: 1;}#sk-container-id-3 div.sk-label:hover label.sk-toggleable__label {background-color: #d4ebff;}#sk-container-id-3 div.sk-serial::before {content: \"\";position: absolute;border-left: 1px solid gray;box-sizing: border-box;top: 0;bottom: 0;left: 50%;z-index: 0;}#sk-container-id-3 div.sk-serial {display: flex;flex-direction: column;align-items: center;background-color: white;padding-right: 0.2em;padding-left: 0.2em;position: relative;}#sk-container-id-3 div.sk-item {position: relative;z-index: 1;}#sk-container-id-3 div.sk-parallel {display: flex;align-items: stretch;justify-content: center;background-color: white;position: relative;}#sk-container-id-3 div.sk-item::before, #sk-container-id-3 div.sk-parallel-item::before {content: \"\";position: absolute;border-left: 1px solid gray;box-sizing: border-box;top: 0;bottom: 0;left: 50%;z-index: -1;}#sk-container-id-3 div.sk-parallel-item {display: flex;flex-direction: column;z-index: 1;position: relative;background-color: white;}#sk-container-id-3 div.sk-parallel-item:first-child::after {align-self: flex-end;width: 50%;}#sk-container-id-3 div.sk-parallel-item:last-child::after {align-self: flex-start;width: 50%;}#sk-container-id-3 div.sk-parallel-item:only-child::after {width: 0;}#sk-container-id-3 div.sk-dashed-wrapped {border: 1px dashed gray;margin: 0 0.4em 0.5em 0.4em;box-sizing: border-box;padding-bottom: 0.4em;background-color: white;}#sk-container-id-3 div.sk-label label {font-family: monospace;font-weight: bold;display: inline-block;line-height: 1.2em;}#sk-container-id-3 div.sk-label-container {text-align: center;}#sk-container-id-3 div.sk-container {/* jupyter's `normalize.less` sets `[hidden] { display: none; }` but bootstrap.min.css set `[hidden] { display: none !important; }` so we also need the `!important` here to be able to override the default hidden behavior on the sphinx rendered scikit-learn.org. See: https://github.com/scikit-learn/scikit-learn/issues/21755 */display: inline-block !important;position: relative;}#sk-container-id-3 div.sk-text-repr-fallback {display: none;}</style><div id=\"sk-container-id-3\" class=\"sk-top-container\"><div class=\"sk-text-repr-fallback\"><pre>LinearSVC(max_iter=50, random_state=0)</pre><b>In a Jupyter environment, please rerun this cell to show the HTML representation or trust the notebook. <br />On GitHub, the HTML representation is unable to render, please try loading this page with nbviewer.org.</b></div><div class=\"sk-container\" hidden><div class=\"sk-item\"><div class=\"sk-estimator sk-toggleable\"><input class=\"sk-toggleable__control sk-hidden--visually\" id=\"sk-estimator-id-3\" type=\"checkbox\" checked><label for=\"sk-estimator-id-3\" class=\"sk-toggleable__label sk-toggleable__label-arrow\">LinearSVC</label><div class=\"sk-toggleable__content\"><pre>LinearSVC(max_iter=50, random_state=0)</pre></div></div></div></div></div>"
      ],
      "text/plain": [
       "LinearSVC(max_iter=50, random_state=0)"
      ]
     },
     "execution_count": 46,
     "metadata": {},
     "output_type": "execute_result"
    }
   ],
   "source": [
    "# DEPOIS DE SEPARADO E BALANCEADO ELE ESTÁ APTO PARA SER TREINADO\n",
    "\n",
    "\n",
    "# modelo a ser utilizado\n",
    "from sklearn import svm\n",
    "\n",
    "model = svm.LinearSVC(max_iter=50, random_state=0)\n",
    "model.fit(x_train, y_train)\n",
    "\n"
   ]
  },
  {
   "cell_type": "code",
   "execution_count": 47,
   "metadata": {},
   "outputs": [
    {
     "name": "stdout",
     "output_type": "stream",
     "text": [
      "[0 0 0 0 1 0 0 1 0 0 0 0 0 1 0 0 0 0 0 1 0 1 0 0 0 0 0 0 0 0 1 0 0 0 0 0 0\n",
      " 1 0 0 0 0 0 0 1 1 0 1 0 0 0 0 1 0 0 0 0 1 0 0 1 1 0 1 1 1 0 1 0 0 0 0 1 0\n",
      " 0 0 0 1 0 0 0 0 0 0 0 0 0 0 0 0 0 0 0 1 0 0 1 0 1 0 1 0 0 0 1 0 0 0 0 0 0\n",
      " 0 0 1 0 0 0 0 0 1 0 1 1 0 0 0 1 0 0 0 1 0 0 0 0 0 1 1 0]\n",
      "47     1\n",
      "290    0\n",
      "13     0\n",
      "269    1\n",
      "29     1\n",
      "      ..\n",
      "310    1\n",
      "89     0\n",
      "21     0\n",
      "128    1\n",
      "449    1\n",
      "Name: chd, Length: 139, dtype: int64\n"
     ]
    }
   ],
   "source": [
    "y_pred = model.predict(x_test)\n",
    "print(y_pred)\n",
    "print(y_test)"
   ]
  },
  {
   "cell_type": "code",
   "execution_count": 48,
   "metadata": {},
   "outputs": [
    {
     "name": "stdout",
     "output_type": "stream",
     "text": [
      "[[72 14]\n",
      " [34 19]]\n"
     ]
    }
   ],
   "source": [
    "from sklearn.metrics import confusion_matrix\n",
    "import seaborn\n",
    "\n",
    "cm = confusion_matrix(y_test, y_pred)\n",
    "print(cm)\n",
    "# obter contagens de observações\n",
    "tn, fp, fn, tp = cm.ravel()"
   ]
  },
  {
   "cell_type": "code",
   "execution_count": 50,
   "metadata": {},
   "outputs": [
    {
     "name": "stdout",
     "output_type": "stream",
     "text": [
      "Confusion Matrix : \n"
     ]
    },
    {
     "data": {
      "image/png": "[encoded data removed]",
      "text/plain": [
       "<Figure size 640x480 with 1 Axes>"
      ]
     },
     "metadata": {},
     "output_type": "display_data"
    }
   ],
   "source": [
    "# Visualização da Matriz de Confusão\n",
    "group_names = ['TN','FP','FN','TP']\n",
    "group_counts = ['{0:0.0f}'.format(value) for value in\n",
    "                cm.flatten()]\n",
    "group_percentages = ['{0:.2%}'.format(value) for value in\n",
    "                     cm.flatten()/np.sum(cm)]\n",
    "labels = [f'{v1}\\n{v2}\\n{v3}' for v1, v2, v3 in\n",
    "          zip(group_names,group_counts,group_percentages)]\n",
    "labels = np.asarray(labels).reshape(2,2)\n",
    "seaborn.heatmap(cm, annot=labels, fmt='', cmap='Blues', cbar=False)\n",
    "\n",
    "print(\"Confusion Matrix : \")\n"
   ]
  },
  {
   "cell_type": "code",
   "execution_count": null,
   "metadata": {},
   "outputs": [
    {
     "name": "stdout",
     "output_type": "stream",
     "text": [
      "Acurácia de 65.47%\n",
      "Precisão de 57.58%\n",
      "Recall de 35.85%\n",
      "F1 - Score de 44.19%\n"
     ]
    }
   ],
   "source": [
    "accuracy = (tp+tn)/(tp+fp+tn+fn)\n",
    "print(\"Acurácia de {0:0.2f}%\".format(accuracy*100))\n",
    "     \n",
    "precision = (tp)/(tp+fp)\n",
    "print(\"Precisão de {0:0.2f}%\".format(precision*100))\n",
    "\n",
    "recall = (tp)/(tp+fn)\n",
    "print(\"Recall de {0:0.2f}%\".format(recall*100))\n",
    "\n",
    "f1 = (2*precision*recall)/(recall+precision)\n",
    "print(\"F1 - Score de {0:0.2f}%\".format(f1*100))"
   ]
  },
  {
   "cell_type": "code",
   "execution_count": null,
   "metadata": {},
   "outputs": [],
   "source": []
  }
 ],
 "metadata": {
  "kernelspec": {
   "display_name": "Python 3.10.6 64-bit",
   "language": "python",
   "name": "python3"
  },
  "language_info": {
   "codemirror_mode": {
    "name": "ipython",
    "version": 3
   },
   "file_extension": ".py",
   "mimetype": "text/x-python",
   "name": "python",
   "nbconvert_exporter": "python",
   "pygments_lexer": "ipython3",
   "version": "3.10.6"
  },
  "orig_nbformat": 4,
  "vscode": {
   "interpreter": {
    "hash": "999f2610e4c9814438a4711369b362e9bc8c4d8c0576f71fb6929a24464e6cb1"
   }
  }
 },
 "nbformat": 4,
 "nbformat_minor": 2
}
